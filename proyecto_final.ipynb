{
  "nbformat": 4,
  "nbformat_minor": 0,
  "metadata": {
    "colab": {
      "name": "proyecto_final.ipynb",
      "provenance": [],
      "collapsed_sections": []
    },
    "kernelspec": {
      "name": "python3",
      "display_name": "Python 3"
    },
    "language_info": {
      "name": "python"
    }
  },
  "cells": [
    {
      "cell_type": "markdown",
      "metadata": {
        "id": "AuGUDLZ_JGIn"
      },
      "source": [
        "##Introduccion"
      ]
    },
    {
      "cell_type": "markdown",
      "metadata": {
        "id": "IypsWLxHJKTk"
      },
      "source": [
        "Bitcoin (BTC) es una red de consenso, basada en la tecnología blockchain, que permite un sistema de pago y una moneda totalmente digital. Impulsado por sus usuarios, se conecta a una red de pago que no requiere una autoridad central para operar. El 31 de octubre de 2008, una persona o grupo de personas que trabajaban bajo el seudónimo \"Satoshi Nakamoto\" publicó el documento técnico de Bitcoin y lo describió como: \"Una versión completamente peer-to-peer de efectivo electrónico, que le permite enviar pagos en línea directamente.\n",
        "\n",
        "Dada la creciente popularidad y adopción de Bitcoin, su comportamiento resulta una motivación de analisis, es por lo que se tomara el periodo mensual más reciente, Mayo del 2021, para analisar el comportamiento del comercio de la criptomoneda lider. A través de bigQuery se tiene acceso a los datos historicos de la blockchain donde opera el intercambio de los bitcoin o en su defecto la unidad mas pequeña de un bitcoin, un satoshi que equivale a 0.000000001 Bitcoin. "
      ]
    },
    {
      "cell_type": "markdown",
      "metadata": {
        "id": "p-CzfSsR0Dpq"
      },
      "source": [
        "##Desarrollo"
      ]
    },
    {
      "cell_type": "code",
      "metadata": {
        "id": "r7H4RZyParX5"
      },
      "source": [
        "#Preparación del entorno\n",
        "from google.cloud import bigquery #Integración de BigQuery para conjunto de datos públicos\n",
        "import pandas as pd"
      ],
      "execution_count": null,
      "outputs": []
    },
    {
      "cell_type": "code",
      "metadata": {
        "id": "_v6YYEalaw6O"
      },
      "source": [
        "from google.colab import auth \n",
        "auth.authenticate_user()"
      ],
      "execution_count": null,
      "outputs": []
    },
    {
      "cell_type": "code",
      "metadata": {
        "id": "PZLGMhmBa7IB"
      },
      "source": [
        "project_id = 'certain-analyst-314001' #identificador del proyecto\n",
        "\n",
        "client = bigquery.Client(project=project_id) #Objeto Cliente para acceder y manejar los datos."
      ],
      "execution_count": null,
      "outputs": []
    },
    {
      "cell_type": "code",
      "metadata": {
        "id": "IzVcJT5lbHKs"
      },
      "source": [
        "#Cargando dataset\n",
        "dataset_ref = client.dataset(\"crypto_bitcoin\", project='bigquery-public-data')\n",
        "dataset = client.get_dataset(dataset_ref)"
      ],
      "execution_count": null,
      "outputs": []
    },
    {
      "cell_type": "code",
      "metadata": {
        "colab": {
          "base_uri": "https://localhost:8080/"
        },
        "id": "akxH26ELbJwt",
        "outputId": "4fbee0be-9edd-4424-9443-2e5593ea5f02"
      },
      "source": [
        "#Nombre de las tablas en el dataset\n",
        "tables = list(client.list_tables(dataset))\n",
        "\n",
        "for table in tables:\n",
        "  print(table.table_id)"
      ],
      "execution_count": null,
      "outputs": [
        {
          "output_type": "stream",
          "text": [
            "blocks\n",
            "inputs\n",
            "outputs\n",
            "transactions\n"
          ],
          "name": "stdout"
        }
      ]
    },
    {
      "cell_type": "code",
      "metadata": {
        "id": "7E9-6kT0bL0A"
      },
      "source": [
        "#Acceso a tabla de interes \"transactions\"\n",
        "table_ref = dataset_ref.table('transactions')\n",
        "table = client.get_table(table_ref)"
      ],
      "execution_count": null,
      "outputs": []
    },
    {
      "cell_type": "code",
      "metadata": {
        "colab": {
          "base_uri": "https://localhost:8080/"
        },
        "id": "102DDOiMbPtC",
        "outputId": "f7e12e7e-e26f-44a6-d02d-ff6f09252322"
      },
      "source": [
        "\"\"\"Función para estimar el tamaño de la consulta. \n",
        "Originalmente de: https://www.kaggle.com/sohier/beyond-queries-exploring-the-bigquery-api/\"\"\"\n",
        "    \n",
        "def estimate_gigabytes_scanned(query, bq_client):\n",
        "    my_job_config = bigquery.job.QueryJobConfig() \n",
        "    my_job_config.dry_run = True \n",
        "    my_job = bq_client.query(query, job_config=my_job_config)\n",
        "    \n",
        "    BYTES_PER_GB = 2**30 #Bytes a Gigabytes \n",
        "    estimate = my_job.total_bytes_processed / BYTES_PER_GB\n",
        "    \n",
        "    print(f\"{estimate} GBs.\")\n",
        "\n",
        "#StandarSQL\n",
        "query_example = \"\"\"\n",
        "    SELECT *\n",
        "    FROM `bigquery-public-data.crypto_bitcoin.transactions`\n",
        "\"\"\"\n",
        "\n",
        "estimate_gigabytes_scanned(query_example, client)"
      ],
      "execution_count": null,
      "outputs": [
        {
          "output_type": "stream",
          "text": [
            "1350.1604254059494 GBs.\n"
          ],
          "name": "stdout"
        }
      ]
    },
    {
      "cell_type": "code",
      "metadata": {
        "colab": {
          "base_uri": "https://localhost:8080/"
        },
        "id": "PLd0pMl2bV9x",
        "outputId": "3786e743-f96b-4bb0-de4f-c9252b54c398"
      },
      "source": [
        "#Consulta con datos de interes\n",
        "\"\"\"\n",
        "  Columnas seleccionadas de 'Transactions'\n",
        "    hash: Código de la transacción. Funciona como dato no categórico (hash es una palabra clave de SQL, se coloca comillas).\n",
        "    size: El tamaño de la transacción en bytes\n",
        "    block_timestamp: Marca de tiempo en que el bloque, que contiene la transacción, ha sido sido minado y validado por la red blockchain.\n",
        "    input_count: Cantidad de inputs que incluye la transacción\n",
        "    input_value: Valor total en satoshis de las outputs de la transacción \n",
        "    output_count: Cantidad de outputs que incluye la transacción\n",
        "    output_value: Valor total en satoshis de las inputs de la transacción \n",
        "  \n",
        "  (1 satoshi = 0.000000001 Bitcoin)\n",
        "  Periodo de tiempo de la consulta: Mayo , 2021\n",
        "  \n",
        "\"\"\"\n",
        "\n",
        "\n",
        "query = \"\"\"\n",
        "    SELECT\n",
        "        `hash`,\n",
        "        size,\n",
        "        block_timestamp,\n",
        "        input_count,\n",
        "        input_value,\n",
        "        output_count,\n",
        "        output_value\n",
        "    FROM `bigquery-public-data.crypto_bitcoin.transactions`\n",
        "    WHERE\n",
        "        EXTRACT(YEAR FROM block_timestamp) = 2021 AND\n",
        "        EXTRACT(MONTH FROM block_timestamp) = 05    \n",
        "\"\"\"\n",
        "\n",
        "estimate_gigabytes_scanned(query, client)"
      ],
      "execution_count": null,
      "outputs": [
        {
          "output_type": "stream",
          "text": [
            "78.32283267378807 GBs.\n"
          ],
          "name": "stdout"
        }
      ]
    },
    {
      "cell_type": "code",
      "metadata": {
        "id": "WJUZ1y03bdkc"
      },
      "source": [
        "\"\"\"La consulta debe procesar alrededor de 79 GB de datos. Un trabajo está limitado a \n",
        "1 GB y para evitar el procesamiento accidental de demasiados datos, se pasa un parámetro de configuración de trabajo 'max_bytes' \n",
        "al inicializar un objeto QueryJobConfig de BigQuery.\"\"\"\n",
        "\n",
        "bytes_in_gigabytes = 2**30\n",
        "\n",
        "safe_config = bigquery.QueryJobConfig(max_bytes=79 * bytes_in_gigabytes)\n",
        "\n",
        "query_job = client.query(query, job_config=safe_config)"
      ],
      "execution_count": null,
      "outputs": []
    },
    {
      "cell_type": "code",
      "metadata": {
        "colab": {
          "base_uri": "https://localhost:8080/",
          "height": 416
        },
        "id": "7ERR6H8gbhhx",
        "outputId": "814c817e-e8b8-4b18-c0ea-8f7193349268"
      },
      "source": [
        "#Creando el Data Frame con los datos recuperados\n",
        "result = query_job.result()\n",
        "df = result.to_dataframe()\n",
        "df"
      ],
      "execution_count": null,
      "outputs": [
        {
          "output_type": "execute_result",
          "data": {
            "text/html": [
              "<div>\n",
              "<style scoped>\n",
              "    .dataframe tbody tr th:only-of-type {\n",
              "        vertical-align: middle;\n",
              "    }\n",
              "\n",
              "    .dataframe tbody tr th {\n",
              "        vertical-align: top;\n",
              "    }\n",
              "\n",
              "    .dataframe thead th {\n",
              "        text-align: right;\n",
              "    }\n",
              "</style>\n",
              "<table border=\"1\" class=\"dataframe\">\n",
              "  <thead>\n",
              "    <tr style=\"text-align: right;\">\n",
              "      <th></th>\n",
              "      <th>hash</th>\n",
              "      <th>size</th>\n",
              "      <th>block_timestamp</th>\n",
              "      <th>input_count</th>\n",
              "      <th>input_value</th>\n",
              "      <th>output_count</th>\n",
              "      <th>output_value</th>\n",
              "    </tr>\n",
              "  </thead>\n",
              "  <tbody>\n",
              "    <tr>\n",
              "      <th>0</th>\n",
              "      <td>e29786e72cb9feee0fe2cb7347d7c195abfa3d761b237d...</td>\n",
              "      <td>293</td>\n",
              "      <td>2021-05-05 16:22:27+00:00</td>\n",
              "      <td>0</td>\n",
              "      <td>None</td>\n",
              "      <td>3</td>\n",
              "      <td>716609235</td>\n",
              "    </tr>\n",
              "    <tr>\n",
              "      <th>1</th>\n",
              "      <td>174983a4bacaae59a24c9b0341fbca1fac84282848843e...</td>\n",
              "      <td>296</td>\n",
              "      <td>2021-05-06 09:25:59+00:00</td>\n",
              "      <td>0</td>\n",
              "      <td>None</td>\n",
              "      <td>3</td>\n",
              "      <td>723309800</td>\n",
              "    </tr>\n",
              "    <tr>\n",
              "      <th>2</th>\n",
              "      <td>42a4c24af3791f58574501c58a5171ce7fbd95e4a226c4...</td>\n",
              "      <td>331</td>\n",
              "      <td>2021-05-03 13:32:16+00:00</td>\n",
              "      <td>0</td>\n",
              "      <td>None</td>\n",
              "      <td>4</td>\n",
              "      <td>741316782</td>\n",
              "    </tr>\n",
              "    <tr>\n",
              "      <th>3</th>\n",
              "      <td>e7c8547ed213f4485b9b70b2582cc37aa7127faef39f30...</td>\n",
              "      <td>347</td>\n",
              "      <td>2021-05-01 21:36:25+00:00</td>\n",
              "      <td>0</td>\n",
              "      <td>None</td>\n",
              "      <td>4</td>\n",
              "      <td>726586491</td>\n",
              "    </tr>\n",
              "    <tr>\n",
              "      <th>4</th>\n",
              "      <td>3a242ba705ec65526ade2e0c4c48e05094b79835a2b77f...</td>\n",
              "      <td>351</td>\n",
              "      <td>2021-05-02 21:11:54+00:00</td>\n",
              "      <td>0</td>\n",
              "      <td>None</td>\n",
              "      <td>4</td>\n",
              "      <td>658334236</td>\n",
              "    </tr>\n",
              "    <tr>\n",
              "      <th>...</th>\n",
              "      <td>...</td>\n",
              "      <td>...</td>\n",
              "      <td>...</td>\n",
              "      <td>...</td>\n",
              "      <td>...</td>\n",
              "      <td>...</td>\n",
              "      <td>...</td>\n",
              "    </tr>\n",
              "    <tr>\n",
              "      <th>7791606</th>\n",
              "      <td>7cb47d502a008e4faecb50ca3d5fe45c708279d6ab9e86...</td>\n",
              "      <td>416</td>\n",
              "      <td>2021-05-18 05:22:54+00:00</td>\n",
              "      <td>2</td>\n",
              "      <td>7026964</td>\n",
              "      <td>2</td>\n",
              "      <td>7021316</td>\n",
              "    </tr>\n",
              "    <tr>\n",
              "      <th>7791607</th>\n",
              "      <td>7f06e268befdeb6fdfa71a973b1c52ff45e14405e3a338...</td>\n",
              "      <td>416</td>\n",
              "      <td>2021-05-18 05:22:54+00:00</td>\n",
              "      <td>2</td>\n",
              "      <td>6952522</td>\n",
              "      <td>2</td>\n",
              "      <td>6946873</td>\n",
              "    </tr>\n",
              "    <tr>\n",
              "      <th>7791608</th>\n",
              "      <td>5f8287fdd14f35c143c66021459f5c62495200e62e5394...</td>\n",
              "      <td>416</td>\n",
              "      <td>2021-05-18 05:22:54+00:00</td>\n",
              "      <td>2</td>\n",
              "      <td>14061593</td>\n",
              "      <td>2</td>\n",
              "      <td>14055945</td>\n",
              "    </tr>\n",
              "    <tr>\n",
              "      <th>7791609</th>\n",
              "      <td>04759c624ada6206fc526eeecdcbc3bac21aceb1e41af5...</td>\n",
              "      <td>416</td>\n",
              "      <td>2021-05-18 05:22:54+00:00</td>\n",
              "      <td>2</td>\n",
              "      <td>5315760</td>\n",
              "      <td>2</td>\n",
              "      <td>5314994</td>\n",
              "    </tr>\n",
              "    <tr>\n",
              "      <th>7791610</th>\n",
              "      <td>965e7a0bae03231eaf7abb6789dcfe4fd85ebc0fbfa131...</td>\n",
              "      <td>417</td>\n",
              "      <td>2021-05-18 05:22:54+00:00</td>\n",
              "      <td>2</td>\n",
              "      <td>732002</td>\n",
              "      <td>2</td>\n",
              "      <td>726319</td>\n",
              "    </tr>\n",
              "  </tbody>\n",
              "</table>\n",
              "<p>7791611 rows × 7 columns</p>\n",
              "</div>"
            ],
            "text/plain": [
              "                                                      hash  ...  output_value\n",
              "0        e29786e72cb9feee0fe2cb7347d7c195abfa3d761b237d...  ...     716609235\n",
              "1        174983a4bacaae59a24c9b0341fbca1fac84282848843e...  ...     723309800\n",
              "2        42a4c24af3791f58574501c58a5171ce7fbd95e4a226c4...  ...     741316782\n",
              "3        e7c8547ed213f4485b9b70b2582cc37aa7127faef39f30...  ...     726586491\n",
              "4        3a242ba705ec65526ade2e0c4c48e05094b79835a2b77f...  ...     658334236\n",
              "...                                                    ...  ...           ...\n",
              "7791606  7cb47d502a008e4faecb50ca3d5fe45c708279d6ab9e86...  ...       7021316\n",
              "7791607  7f06e268befdeb6fdfa71a973b1c52ff45e14405e3a338...  ...       6946873\n",
              "7791608  5f8287fdd14f35c143c66021459f5c62495200e62e5394...  ...      14055945\n",
              "7791609  04759c624ada6206fc526eeecdcbc3bac21aceb1e41af5...  ...       5314994\n",
              "7791610  965e7a0bae03231eaf7abb6789dcfe4fd85ebc0fbfa131...  ...        726319\n",
              "\n",
              "[7791611 rows x 7 columns]"
            ]
          },
          "metadata": {
            "tags": []
          },
          "execution_count": 10
        }
      ]
    },
    {
      "cell_type": "code",
      "metadata": {
        "colab": {
          "base_uri": "https://localhost:8080/"
        },
        "id": "4pl6bnOde5x8",
        "outputId": "dc15d37b-460c-4937-e0cb-144d80875a75"
      },
      "source": [
        "print(df['block_timestamp'].max())\n",
        "print(df['block_timestamp'].min())\n",
        "print()\n",
        "df.dtypes"
      ],
      "execution_count": null,
      "outputs": [
        {
          "output_type": "stream",
          "text": [
            "2021-05-31 23:28:19+00:00\n",
            "2021-05-01 00:26:52+00:00\n",
            "\n"
          ],
          "name": "stdout"
        },
        {
          "output_type": "execute_result",
          "data": {
            "text/plain": [
              "hash                            object\n",
              "size                             int64\n",
              "block_timestamp    datetime64[ns, UTC]\n",
              "input_count                      int64\n",
              "input_value                     object\n",
              "output_count                     int64\n",
              "output_value                    object\n",
              "dtype: object"
            ]
          },
          "metadata": {
            "tags": []
          },
          "execution_count": 11
        }
      ]
    },
    {
      "cell_type": "code",
      "metadata": {
        "id": "plcg8mBGe_QY"
      },
      "source": [
        "#Columnas input_value y output_value a formato numérico\n",
        "\n",
        "df['input_value'] = pd.to_numeric(df['input_value'])\n",
        "df['output_value'] = pd.to_numeric(df['output_value'])"
      ],
      "execution_count": null,
      "outputs": []
    },
    {
      "cell_type": "code",
      "metadata": {
        "id": "paAqHwWEfV_8"
      },
      "source": [
        "#Nuevas columnas con el valor medio de los input y output que conforma cada transacción\n",
        "\n",
        "df['avg_out_val'] = df['output_value'] / df['output_count']\n",
        "df['avg_in_val'] = df['input_value'] / df['input_count']"
      ],
      "execution_count": null,
      "outputs": []
    },
    {
      "cell_type": "code",
      "metadata": {
        "id": "cZIh6eisfaQB"
      },
      "source": [
        "#Nueva columna con la comisión de cada transacción\n",
        "\n",
        "df['fee'] = df['input_value'] - df['output_value'] "
      ],
      "execution_count": null,
      "outputs": []
    },
    {
      "cell_type": "code",
      "metadata": {
        "id": "Zg82bWL9fdo6"
      },
      "source": [
        "#Nueva columna con información de la comisión por byte procesado en cada transacción\n",
        "\n",
        "df['fees_per_byte'] = df['fee'] / df['size']"
      ],
      "execution_count": null,
      "outputs": []
    },
    {
      "cell_type": "code",
      "metadata": {
        "colab": {
          "base_uri": "https://localhost:8080/",
          "height": 609
        },
        "id": "3qK8gXfffsKl",
        "outputId": "6c9517fc-30fc-4b51-9a32-b98bc907024d"
      },
      "source": [
        "df"
      ],
      "execution_count": null,
      "outputs": [
        {
          "output_type": "execute_result",
          "data": {
            "text/html": [
              "<div>\n",
              "<style scoped>\n",
              "    .dataframe tbody tr th:only-of-type {\n",
              "        vertical-align: middle;\n",
              "    }\n",
              "\n",
              "    .dataframe tbody tr th {\n",
              "        vertical-align: top;\n",
              "    }\n",
              "\n",
              "    .dataframe thead th {\n",
              "        text-align: right;\n",
              "    }\n",
              "</style>\n",
              "<table border=\"1\" class=\"dataframe\">\n",
              "  <thead>\n",
              "    <tr style=\"text-align: right;\">\n",
              "      <th></th>\n",
              "      <th>hash</th>\n",
              "      <th>size</th>\n",
              "      <th>block_timestamp</th>\n",
              "      <th>input_count</th>\n",
              "      <th>input_value</th>\n",
              "      <th>output_count</th>\n",
              "      <th>output_value</th>\n",
              "      <th>avg_out_val</th>\n",
              "      <th>avg_in_val</th>\n",
              "      <th>fee</th>\n",
              "      <th>fees_per_byte</th>\n",
              "    </tr>\n",
              "  </thead>\n",
              "  <tbody>\n",
              "    <tr>\n",
              "      <th>0</th>\n",
              "      <td>e29786e72cb9feee0fe2cb7347d7c195abfa3d761b237d...</td>\n",
              "      <td>293</td>\n",
              "      <td>2021-05-05 16:22:27+00:00</td>\n",
              "      <td>0</td>\n",
              "      <td>NaN</td>\n",
              "      <td>3</td>\n",
              "      <td>716609235.0</td>\n",
              "      <td>2.388697e+08</td>\n",
              "      <td>NaN</td>\n",
              "      <td>NaN</td>\n",
              "      <td>NaN</td>\n",
              "    </tr>\n",
              "    <tr>\n",
              "      <th>1</th>\n",
              "      <td>174983a4bacaae59a24c9b0341fbca1fac84282848843e...</td>\n",
              "      <td>296</td>\n",
              "      <td>2021-05-06 09:25:59+00:00</td>\n",
              "      <td>0</td>\n",
              "      <td>NaN</td>\n",
              "      <td>3</td>\n",
              "      <td>723309800.0</td>\n",
              "      <td>2.411033e+08</td>\n",
              "      <td>NaN</td>\n",
              "      <td>NaN</td>\n",
              "      <td>NaN</td>\n",
              "    </tr>\n",
              "    <tr>\n",
              "      <th>2</th>\n",
              "      <td>42a4c24af3791f58574501c58a5171ce7fbd95e4a226c4...</td>\n",
              "      <td>331</td>\n",
              "      <td>2021-05-03 13:32:16+00:00</td>\n",
              "      <td>0</td>\n",
              "      <td>NaN</td>\n",
              "      <td>4</td>\n",
              "      <td>741316782.0</td>\n",
              "      <td>1.853292e+08</td>\n",
              "      <td>NaN</td>\n",
              "      <td>NaN</td>\n",
              "      <td>NaN</td>\n",
              "    </tr>\n",
              "    <tr>\n",
              "      <th>3</th>\n",
              "      <td>e7c8547ed213f4485b9b70b2582cc37aa7127faef39f30...</td>\n",
              "      <td>347</td>\n",
              "      <td>2021-05-01 21:36:25+00:00</td>\n",
              "      <td>0</td>\n",
              "      <td>NaN</td>\n",
              "      <td>4</td>\n",
              "      <td>726586491.0</td>\n",
              "      <td>1.816466e+08</td>\n",
              "      <td>NaN</td>\n",
              "      <td>NaN</td>\n",
              "      <td>NaN</td>\n",
              "    </tr>\n",
              "    <tr>\n",
              "      <th>4</th>\n",
              "      <td>3a242ba705ec65526ade2e0c4c48e05094b79835a2b77f...</td>\n",
              "      <td>351</td>\n",
              "      <td>2021-05-02 21:11:54+00:00</td>\n",
              "      <td>0</td>\n",
              "      <td>NaN</td>\n",
              "      <td>4</td>\n",
              "      <td>658334236.0</td>\n",
              "      <td>1.645836e+08</td>\n",
              "      <td>NaN</td>\n",
              "      <td>NaN</td>\n",
              "      <td>NaN</td>\n",
              "    </tr>\n",
              "    <tr>\n",
              "      <th>...</th>\n",
              "      <td>...</td>\n",
              "      <td>...</td>\n",
              "      <td>...</td>\n",
              "      <td>...</td>\n",
              "      <td>...</td>\n",
              "      <td>...</td>\n",
              "      <td>...</td>\n",
              "      <td>...</td>\n",
              "      <td>...</td>\n",
              "      <td>...</td>\n",
              "      <td>...</td>\n",
              "    </tr>\n",
              "    <tr>\n",
              "      <th>7791606</th>\n",
              "      <td>7cb47d502a008e4faecb50ca3d5fe45c708279d6ab9e86...</td>\n",
              "      <td>416</td>\n",
              "      <td>2021-05-18 05:22:54+00:00</td>\n",
              "      <td>2</td>\n",
              "      <td>7026964.0</td>\n",
              "      <td>2</td>\n",
              "      <td>7021316.0</td>\n",
              "      <td>3.510658e+06</td>\n",
              "      <td>3513482.0</td>\n",
              "      <td>5648.0</td>\n",
              "      <td>13.576923</td>\n",
              "    </tr>\n",
              "    <tr>\n",
              "      <th>7791607</th>\n",
              "      <td>7f06e268befdeb6fdfa71a973b1c52ff45e14405e3a338...</td>\n",
              "      <td>416</td>\n",
              "      <td>2021-05-18 05:22:54+00:00</td>\n",
              "      <td>2</td>\n",
              "      <td>6952522.0</td>\n",
              "      <td>2</td>\n",
              "      <td>6946873.0</td>\n",
              "      <td>3.473436e+06</td>\n",
              "      <td>3476261.0</td>\n",
              "      <td>5649.0</td>\n",
              "      <td>13.579327</td>\n",
              "    </tr>\n",
              "    <tr>\n",
              "      <th>7791608</th>\n",
              "      <td>5f8287fdd14f35c143c66021459f5c62495200e62e5394...</td>\n",
              "      <td>416</td>\n",
              "      <td>2021-05-18 05:22:54+00:00</td>\n",
              "      <td>2</td>\n",
              "      <td>14061593.0</td>\n",
              "      <td>2</td>\n",
              "      <td>14055945.0</td>\n",
              "      <td>7.027972e+06</td>\n",
              "      <td>7030796.5</td>\n",
              "      <td>5648.0</td>\n",
              "      <td>13.576923</td>\n",
              "    </tr>\n",
              "    <tr>\n",
              "      <th>7791609</th>\n",
              "      <td>04759c624ada6206fc526eeecdcbc3bac21aceb1e41af5...</td>\n",
              "      <td>416</td>\n",
              "      <td>2021-05-18 05:22:54+00:00</td>\n",
              "      <td>2</td>\n",
              "      <td>5315760.0</td>\n",
              "      <td>2</td>\n",
              "      <td>5314994.0</td>\n",
              "      <td>2.657497e+06</td>\n",
              "      <td>2657880.0</td>\n",
              "      <td>766.0</td>\n",
              "      <td>1.841346</td>\n",
              "    </tr>\n",
              "    <tr>\n",
              "      <th>7791610</th>\n",
              "      <td>965e7a0bae03231eaf7abb6789dcfe4fd85ebc0fbfa131...</td>\n",
              "      <td>417</td>\n",
              "      <td>2021-05-18 05:22:54+00:00</td>\n",
              "      <td>2</td>\n",
              "      <td>732002.0</td>\n",
              "      <td>2</td>\n",
              "      <td>726319.0</td>\n",
              "      <td>3.631595e+05</td>\n",
              "      <td>366001.0</td>\n",
              "      <td>5683.0</td>\n",
              "      <td>13.628297</td>\n",
              "    </tr>\n",
              "  </tbody>\n",
              "</table>\n",
              "<p>7791611 rows × 11 columns</p>\n",
              "</div>"
            ],
            "text/plain": [
              "                                                      hash  ...  fees_per_byte\n",
              "0        e29786e72cb9feee0fe2cb7347d7c195abfa3d761b237d...  ...            NaN\n",
              "1        174983a4bacaae59a24c9b0341fbca1fac84282848843e...  ...            NaN\n",
              "2        42a4c24af3791f58574501c58a5171ce7fbd95e4a226c4...  ...            NaN\n",
              "3        e7c8547ed213f4485b9b70b2582cc37aa7127faef39f30...  ...            NaN\n",
              "4        3a242ba705ec65526ade2e0c4c48e05094b79835a2b77f...  ...            NaN\n",
              "...                                                    ...  ...            ...\n",
              "7791606  7cb47d502a008e4faecb50ca3d5fe45c708279d6ab9e86...  ...      13.576923\n",
              "7791607  7f06e268befdeb6fdfa71a973b1c52ff45e14405e3a338...  ...      13.579327\n",
              "7791608  5f8287fdd14f35c143c66021459f5c62495200e62e5394...  ...      13.576923\n",
              "7791609  04759c624ada6206fc526eeecdcbc3bac21aceb1e41af5...  ...       1.841346\n",
              "7791610  965e7a0bae03231eaf7abb6789dcfe4fd85ebc0fbfa131...  ...      13.628297\n",
              "\n",
              "[7791611 rows x 11 columns]"
            ]
          },
          "metadata": {
            "tags": []
          },
          "execution_count": 16
        }
      ]
    },
    {
      "cell_type": "code",
      "metadata": {
        "colab": {
          "base_uri": "https://localhost:8080/",
          "height": 609
        },
        "id": "UH0DiXxffsvv",
        "outputId": "b467968c-09ef-4fbb-f183-e332a16bacb0"
      },
      "source": [
        "\"\"\"Por último se borran los registros donde input_value = 0, que corresponden a movimientos que contabilizan los nuevos bitcoin \"minados\" por cada bloque que se agrega a la red.\n",
        "No resultan de interes para el analisis por no representar movimientos de interecambios\"\"\"\n",
        "\n",
        "df.dropna(axis=0, subset=['input_value'], inplace=True)\n",
        "df"
      ],
      "execution_count": null,
      "outputs": [
        {
          "output_type": "execute_result",
          "data": {
            "text/html": [
              "<div>\n",
              "<style scoped>\n",
              "    .dataframe tbody tr th:only-of-type {\n",
              "        vertical-align: middle;\n",
              "    }\n",
              "\n",
              "    .dataframe tbody tr th {\n",
              "        vertical-align: top;\n",
              "    }\n",
              "\n",
              "    .dataframe thead th {\n",
              "        text-align: right;\n",
              "    }\n",
              "</style>\n",
              "<table border=\"1\" class=\"dataframe\">\n",
              "  <thead>\n",
              "    <tr style=\"text-align: right;\">\n",
              "      <th></th>\n",
              "      <th>hash</th>\n",
              "      <th>size</th>\n",
              "      <th>block_timestamp</th>\n",
              "      <th>input_count</th>\n",
              "      <th>input_value</th>\n",
              "      <th>output_count</th>\n",
              "      <th>output_value</th>\n",
              "      <th>avg_out_val</th>\n",
              "      <th>avg_in_val</th>\n",
              "      <th>fee</th>\n",
              "      <th>fees_per_byte</th>\n",
              "    </tr>\n",
              "  </thead>\n",
              "  <tbody>\n",
              "    <tr>\n",
              "      <th>12</th>\n",
              "      <td>913d23d7db88cd0ed9ff96b6ef5b8c5ccfb6cd430d6bf9...</td>\n",
              "      <td>445</td>\n",
              "      <td>2021-05-02 12:59:55+00:00</td>\n",
              "      <td>2</td>\n",
              "      <td>14000.0</td>\n",
              "      <td>2</td>\n",
              "      <td>9000.0</td>\n",
              "      <td>4.500000e+03</td>\n",
              "      <td>7000.0</td>\n",
              "      <td>5000.0</td>\n",
              "      <td>11.235955</td>\n",
              "    </tr>\n",
              "    <tr>\n",
              "      <th>13</th>\n",
              "      <td>806474e6df572c60e0f2689f83eda6d142a0f86c016c48...</td>\n",
              "      <td>256</td>\n",
              "      <td>2021-05-07 09:18:51+00:00</td>\n",
              "      <td>1</td>\n",
              "      <td>414780.0</td>\n",
              "      <td>3</td>\n",
              "      <td>392680.0</td>\n",
              "      <td>1.308933e+05</td>\n",
              "      <td>414780.0</td>\n",
              "      <td>22100.0</td>\n",
              "      <td>86.328125</td>\n",
              "    </tr>\n",
              "    <tr>\n",
              "      <th>14</th>\n",
              "      <td>64576ec5b8c5a0c0f0dc26908cc585a1aa22554aaebbd2...</td>\n",
              "      <td>256</td>\n",
              "      <td>2021-05-07 22:45:04+00:00</td>\n",
              "      <td>1</td>\n",
              "      <td>279713.0</td>\n",
              "      <td>3</td>\n",
              "      <td>257239.0</td>\n",
              "      <td>8.574633e+04</td>\n",
              "      <td>279713.0</td>\n",
              "      <td>22474.0</td>\n",
              "      <td>87.789062</td>\n",
              "    </tr>\n",
              "    <tr>\n",
              "      <th>15</th>\n",
              "      <td>9af384624cee303ed6cabf7086da7b9a8d91394e904713...</td>\n",
              "      <td>256</td>\n",
              "      <td>2021-05-07 09:18:51+00:00</td>\n",
              "      <td>1</td>\n",
              "      <td>369488.0</td>\n",
              "      <td>3</td>\n",
              "      <td>347388.0</td>\n",
              "      <td>1.157960e+05</td>\n",
              "      <td>369488.0</td>\n",
              "      <td>22100.0</td>\n",
              "      <td>86.328125</td>\n",
              "    </tr>\n",
              "    <tr>\n",
              "      <th>16</th>\n",
              "      <td>5ef59e955947857b7717ccb75110d25590b0b42e1d2fc3...</td>\n",
              "      <td>256</td>\n",
              "      <td>2021-05-07 09:07:10+00:00</td>\n",
              "      <td>1</td>\n",
              "      <td>460072.0</td>\n",
              "      <td>3</td>\n",
              "      <td>437972.0</td>\n",
              "      <td>1.459907e+05</td>\n",
              "      <td>460072.0</td>\n",
              "      <td>22100.0</td>\n",
              "      <td>86.328125</td>\n",
              "    </tr>\n",
              "    <tr>\n",
              "      <th>...</th>\n",
              "      <td>...</td>\n",
              "      <td>...</td>\n",
              "      <td>...</td>\n",
              "      <td>...</td>\n",
              "      <td>...</td>\n",
              "      <td>...</td>\n",
              "      <td>...</td>\n",
              "      <td>...</td>\n",
              "      <td>...</td>\n",
              "      <td>...</td>\n",
              "      <td>...</td>\n",
              "    </tr>\n",
              "    <tr>\n",
              "      <th>7791606</th>\n",
              "      <td>7cb47d502a008e4faecb50ca3d5fe45c708279d6ab9e86...</td>\n",
              "      <td>416</td>\n",
              "      <td>2021-05-18 05:22:54+00:00</td>\n",
              "      <td>2</td>\n",
              "      <td>7026964.0</td>\n",
              "      <td>2</td>\n",
              "      <td>7021316.0</td>\n",
              "      <td>3.510658e+06</td>\n",
              "      <td>3513482.0</td>\n",
              "      <td>5648.0</td>\n",
              "      <td>13.576923</td>\n",
              "    </tr>\n",
              "    <tr>\n",
              "      <th>7791607</th>\n",
              "      <td>7f06e268befdeb6fdfa71a973b1c52ff45e14405e3a338...</td>\n",
              "      <td>416</td>\n",
              "      <td>2021-05-18 05:22:54+00:00</td>\n",
              "      <td>2</td>\n",
              "      <td>6952522.0</td>\n",
              "      <td>2</td>\n",
              "      <td>6946873.0</td>\n",
              "      <td>3.473436e+06</td>\n",
              "      <td>3476261.0</td>\n",
              "      <td>5649.0</td>\n",
              "      <td>13.579327</td>\n",
              "    </tr>\n",
              "    <tr>\n",
              "      <th>7791608</th>\n",
              "      <td>5f8287fdd14f35c143c66021459f5c62495200e62e5394...</td>\n",
              "      <td>416</td>\n",
              "      <td>2021-05-18 05:22:54+00:00</td>\n",
              "      <td>2</td>\n",
              "      <td>14061593.0</td>\n",
              "      <td>2</td>\n",
              "      <td>14055945.0</td>\n",
              "      <td>7.027972e+06</td>\n",
              "      <td>7030796.5</td>\n",
              "      <td>5648.0</td>\n",
              "      <td>13.576923</td>\n",
              "    </tr>\n",
              "    <tr>\n",
              "      <th>7791609</th>\n",
              "      <td>04759c624ada6206fc526eeecdcbc3bac21aceb1e41af5...</td>\n",
              "      <td>416</td>\n",
              "      <td>2021-05-18 05:22:54+00:00</td>\n",
              "      <td>2</td>\n",
              "      <td>5315760.0</td>\n",
              "      <td>2</td>\n",
              "      <td>5314994.0</td>\n",
              "      <td>2.657497e+06</td>\n",
              "      <td>2657880.0</td>\n",
              "      <td>766.0</td>\n",
              "      <td>1.841346</td>\n",
              "    </tr>\n",
              "    <tr>\n",
              "      <th>7791610</th>\n",
              "      <td>965e7a0bae03231eaf7abb6789dcfe4fd85ebc0fbfa131...</td>\n",
              "      <td>417</td>\n",
              "      <td>2021-05-18 05:22:54+00:00</td>\n",
              "      <td>2</td>\n",
              "      <td>732002.0</td>\n",
              "      <td>2</td>\n",
              "      <td>726319.0</td>\n",
              "      <td>3.631595e+05</td>\n",
              "      <td>366001.0</td>\n",
              "      <td>5683.0</td>\n",
              "      <td>13.628297</td>\n",
              "    </tr>\n",
              "  </tbody>\n",
              "</table>\n",
              "<p>7787188 rows × 11 columns</p>\n",
              "</div>"
            ],
            "text/plain": [
              "                                                      hash  ...  fees_per_byte\n",
              "12       913d23d7db88cd0ed9ff96b6ef5b8c5ccfb6cd430d6bf9...  ...      11.235955\n",
              "13       806474e6df572c60e0f2689f83eda6d142a0f86c016c48...  ...      86.328125\n",
              "14       64576ec5b8c5a0c0f0dc26908cc585a1aa22554aaebbd2...  ...      87.789062\n",
              "15       9af384624cee303ed6cabf7086da7b9a8d91394e904713...  ...      86.328125\n",
              "16       5ef59e955947857b7717ccb75110d25590b0b42e1d2fc3...  ...      86.328125\n",
              "...                                                    ...  ...            ...\n",
              "7791606  7cb47d502a008e4faecb50ca3d5fe45c708279d6ab9e86...  ...      13.576923\n",
              "7791607  7f06e268befdeb6fdfa71a973b1c52ff45e14405e3a338...  ...      13.579327\n",
              "7791608  5f8287fdd14f35c143c66021459f5c62495200e62e5394...  ...      13.576923\n",
              "7791609  04759c624ada6206fc526eeecdcbc3bac21aceb1e41af5...  ...       1.841346\n",
              "7791610  965e7a0bae03231eaf7abb6789dcfe4fd85ebc0fbfa131...  ...      13.628297\n",
              "\n",
              "[7787188 rows x 11 columns]"
            ]
          },
          "metadata": {
            "tags": []
          },
          "execution_count": 17
        }
      ]
    },
    {
      "cell_type": "code",
      "metadata": {
        "id": "smomH5tAgTdu"
      },
      "source": [
        "#Se exporta el dataframe final a un .csv\n",
        "\n",
        "df.to_csv(\"transactions_202105.csv\", index = False)"
      ],
      "execution_count": null,
      "outputs": []
    },
    {
      "cell_type": "code",
      "metadata": {
        "id": "l0d9AQ-un-K-"
      },
      "source": [
        "#Lectura y uso de archivo generado \n",
        "\n",
        "btc = pd.read_csv('transactions_202105.csv')"
      ],
      "execution_count": null,
      "outputs": []
    },
    {
      "cell_type": "code",
      "metadata": {
        "colab": {
          "base_uri": "https://localhost:8080/",
          "height": 609
        },
        "id": "IE9xV1sEo31C",
        "outputId": "fe65cd29-b5eb-427e-e1b7-4e8f53d83e72"
      },
      "source": [
        "#Se recupera formato de fecha en columna 'block_timestamp'\n",
        "\n",
        "btc['block_timestamp'] = pd.to_datetime(btc['block_timestamp'] )\n",
        "btc"
      ],
      "execution_count": null,
      "outputs": [
        {
          "output_type": "execute_result",
          "data": {
            "text/html": [
              "<div>\n",
              "<style scoped>\n",
              "    .dataframe tbody tr th:only-of-type {\n",
              "        vertical-align: middle;\n",
              "    }\n",
              "\n",
              "    .dataframe tbody tr th {\n",
              "        vertical-align: top;\n",
              "    }\n",
              "\n",
              "    .dataframe thead th {\n",
              "        text-align: right;\n",
              "    }\n",
              "</style>\n",
              "<table border=\"1\" class=\"dataframe\">\n",
              "  <thead>\n",
              "    <tr style=\"text-align: right;\">\n",
              "      <th></th>\n",
              "      <th>hash</th>\n",
              "      <th>size</th>\n",
              "      <th>block_timestamp</th>\n",
              "      <th>input_count</th>\n",
              "      <th>input_value</th>\n",
              "      <th>output_count</th>\n",
              "      <th>output_value</th>\n",
              "      <th>avg_out_val</th>\n",
              "      <th>avg_in_val</th>\n",
              "      <th>fee</th>\n",
              "      <th>fees_per_byte</th>\n",
              "    </tr>\n",
              "  </thead>\n",
              "  <tbody>\n",
              "    <tr>\n",
              "      <th>0</th>\n",
              "      <td>913d23d7db88cd0ed9ff96b6ef5b8c5ccfb6cd430d6bf9...</td>\n",
              "      <td>445</td>\n",
              "      <td>2021-05-02 12:59:55+00:00</td>\n",
              "      <td>2</td>\n",
              "      <td>14000.0</td>\n",
              "      <td>2</td>\n",
              "      <td>9000.0</td>\n",
              "      <td>4.500000e+03</td>\n",
              "      <td>7000.0</td>\n",
              "      <td>5000.0</td>\n",
              "      <td>11.235955</td>\n",
              "    </tr>\n",
              "    <tr>\n",
              "      <th>1</th>\n",
              "      <td>806474e6df572c60e0f2689f83eda6d142a0f86c016c48...</td>\n",
              "      <td>256</td>\n",
              "      <td>2021-05-07 09:18:51+00:00</td>\n",
              "      <td>1</td>\n",
              "      <td>414780.0</td>\n",
              "      <td>3</td>\n",
              "      <td>392680.0</td>\n",
              "      <td>1.308933e+05</td>\n",
              "      <td>414780.0</td>\n",
              "      <td>22100.0</td>\n",
              "      <td>86.328125</td>\n",
              "    </tr>\n",
              "    <tr>\n",
              "      <th>2</th>\n",
              "      <td>64576ec5b8c5a0c0f0dc26908cc585a1aa22554aaebbd2...</td>\n",
              "      <td>256</td>\n",
              "      <td>2021-05-07 22:45:04+00:00</td>\n",
              "      <td>1</td>\n",
              "      <td>279713.0</td>\n",
              "      <td>3</td>\n",
              "      <td>257239.0</td>\n",
              "      <td>8.574633e+04</td>\n",
              "      <td>279713.0</td>\n",
              "      <td>22474.0</td>\n",
              "      <td>87.789062</td>\n",
              "    </tr>\n",
              "    <tr>\n",
              "      <th>3</th>\n",
              "      <td>9af384624cee303ed6cabf7086da7b9a8d91394e904713...</td>\n",
              "      <td>256</td>\n",
              "      <td>2021-05-07 09:18:51+00:00</td>\n",
              "      <td>1</td>\n",
              "      <td>369488.0</td>\n",
              "      <td>3</td>\n",
              "      <td>347388.0</td>\n",
              "      <td>1.157960e+05</td>\n",
              "      <td>369488.0</td>\n",
              "      <td>22100.0</td>\n",
              "      <td>86.328125</td>\n",
              "    </tr>\n",
              "    <tr>\n",
              "      <th>4</th>\n",
              "      <td>5ef59e955947857b7717ccb75110d25590b0b42e1d2fc3...</td>\n",
              "      <td>256</td>\n",
              "      <td>2021-05-07 09:07:10+00:00</td>\n",
              "      <td>1</td>\n",
              "      <td>460072.0</td>\n",
              "      <td>3</td>\n",
              "      <td>437972.0</td>\n",
              "      <td>1.459907e+05</td>\n",
              "      <td>460072.0</td>\n",
              "      <td>22100.0</td>\n",
              "      <td>86.328125</td>\n",
              "    </tr>\n",
              "    <tr>\n",
              "      <th>...</th>\n",
              "      <td>...</td>\n",
              "      <td>...</td>\n",
              "      <td>...</td>\n",
              "      <td>...</td>\n",
              "      <td>...</td>\n",
              "      <td>...</td>\n",
              "      <td>...</td>\n",
              "      <td>...</td>\n",
              "      <td>...</td>\n",
              "      <td>...</td>\n",
              "      <td>...</td>\n",
              "    </tr>\n",
              "    <tr>\n",
              "      <th>7787183</th>\n",
              "      <td>7cb47d502a008e4faecb50ca3d5fe45c708279d6ab9e86...</td>\n",
              "      <td>416</td>\n",
              "      <td>2021-05-18 05:22:54+00:00</td>\n",
              "      <td>2</td>\n",
              "      <td>7026964.0</td>\n",
              "      <td>2</td>\n",
              "      <td>7021316.0</td>\n",
              "      <td>3.510658e+06</td>\n",
              "      <td>3513482.0</td>\n",
              "      <td>5648.0</td>\n",
              "      <td>13.576923</td>\n",
              "    </tr>\n",
              "    <tr>\n",
              "      <th>7787184</th>\n",
              "      <td>7f06e268befdeb6fdfa71a973b1c52ff45e14405e3a338...</td>\n",
              "      <td>416</td>\n",
              "      <td>2021-05-18 05:22:54+00:00</td>\n",
              "      <td>2</td>\n",
              "      <td>6952522.0</td>\n",
              "      <td>2</td>\n",
              "      <td>6946873.0</td>\n",
              "      <td>3.473436e+06</td>\n",
              "      <td>3476261.0</td>\n",
              "      <td>5649.0</td>\n",
              "      <td>13.579327</td>\n",
              "    </tr>\n",
              "    <tr>\n",
              "      <th>7787185</th>\n",
              "      <td>5f8287fdd14f35c143c66021459f5c62495200e62e5394...</td>\n",
              "      <td>416</td>\n",
              "      <td>2021-05-18 05:22:54+00:00</td>\n",
              "      <td>2</td>\n",
              "      <td>14061593.0</td>\n",
              "      <td>2</td>\n",
              "      <td>14055945.0</td>\n",
              "      <td>7.027972e+06</td>\n",
              "      <td>7030796.5</td>\n",
              "      <td>5648.0</td>\n",
              "      <td>13.576923</td>\n",
              "    </tr>\n",
              "    <tr>\n",
              "      <th>7787186</th>\n",
              "      <td>04759c624ada6206fc526eeecdcbc3bac21aceb1e41af5...</td>\n",
              "      <td>416</td>\n",
              "      <td>2021-05-18 05:22:54+00:00</td>\n",
              "      <td>2</td>\n",
              "      <td>5315760.0</td>\n",
              "      <td>2</td>\n",
              "      <td>5314994.0</td>\n",
              "      <td>2.657497e+06</td>\n",
              "      <td>2657880.0</td>\n",
              "      <td>766.0</td>\n",
              "      <td>1.841346</td>\n",
              "    </tr>\n",
              "    <tr>\n",
              "      <th>7787187</th>\n",
              "      <td>965e7a0bae03231eaf7abb6789dcfe4fd85ebc0fbfa131...</td>\n",
              "      <td>417</td>\n",
              "      <td>2021-05-18 05:22:54+00:00</td>\n",
              "      <td>2</td>\n",
              "      <td>732002.0</td>\n",
              "      <td>2</td>\n",
              "      <td>726319.0</td>\n",
              "      <td>3.631595e+05</td>\n",
              "      <td>366001.0</td>\n",
              "      <td>5683.0</td>\n",
              "      <td>13.628297</td>\n",
              "    </tr>\n",
              "  </tbody>\n",
              "</table>\n",
              "<p>7787188 rows × 11 columns</p>\n",
              "</div>"
            ],
            "text/plain": [
              "                                                      hash  ...  fees_per_byte\n",
              "0        913d23d7db88cd0ed9ff96b6ef5b8c5ccfb6cd430d6bf9...  ...      11.235955\n",
              "1        806474e6df572c60e0f2689f83eda6d142a0f86c016c48...  ...      86.328125\n",
              "2        64576ec5b8c5a0c0f0dc26908cc585a1aa22554aaebbd2...  ...      87.789062\n",
              "3        9af384624cee303ed6cabf7086da7b9a8d91394e904713...  ...      86.328125\n",
              "4        5ef59e955947857b7717ccb75110d25590b0b42e1d2fc3...  ...      86.328125\n",
              "...                                                    ...  ...            ...\n",
              "7787183  7cb47d502a008e4faecb50ca3d5fe45c708279d6ab9e86...  ...      13.576923\n",
              "7787184  7f06e268befdeb6fdfa71a973b1c52ff45e14405e3a338...  ...      13.579327\n",
              "7787185  5f8287fdd14f35c143c66021459f5c62495200e62e5394...  ...      13.576923\n",
              "7787186  04759c624ada6206fc526eeecdcbc3bac21aceb1e41af5...  ...       1.841346\n",
              "7787187  965e7a0bae03231eaf7abb6789dcfe4fd85ebc0fbfa131...  ...      13.628297\n",
              "\n",
              "[7787188 rows x 11 columns]"
            ]
          },
          "metadata": {
            "tags": []
          },
          "execution_count": 17
        }
      ]
    },
    {
      "cell_type": "code",
      "metadata": {
        "colab": {
          "base_uri": "https://localhost:8080/",
          "height": 574
        },
        "id": "ijwltX3xpMMT",
        "outputId": "feb6d9e1-8e4c-496a-abe6-e1014910d63d"
      },
      "source": [
        "btc.groupby(btc['block_timestamp'].dt.date)['avg_out_val'].sum().plot(kind='bar', figsize=(18, 8), color='green')"
      ],
      "execution_count": null,
      "outputs": [
        {
          "output_type": "execute_result",
          "data": {
            "text/plain": [
              "<matplotlib.axes._subplots.AxesSubplot at 0x7fb5f46392d0>"
            ]
          },
          "metadata": {
            "tags": []
          },
          "execution_count": 18
        },
        {
          "output_type": "display_data",
          "data": {
            "image/png": "[encoded data removed]",
            "text/plain": [
              "<Figure size 1296x576 with 1 Axes>"
            ]
          },
          "metadata": {
            "tags": [],
            "needs_background": "light"
          }
        }
      ]
    },
    {
      "cell_type": "code",
      "metadata": {
        "colab": {
          "base_uri": "https://localhost:8080/",
          "height": 574
        },
        "id": "0MKj2LWCqFzA",
        "outputId": "8a1adc95-5028-403c-8332-dbfff5e8e4a5"
      },
      "source": [
        "btc.groupby(btc['block_timestamp'].dt.date)['avg_in_val'].sum().plot(kind='bar', figsize=(18, 8), color='green')"
      ],
      "execution_count": null,
      "outputs": [
        {
          "output_type": "execute_result",
          "data": {
            "text/plain": [
              "<matplotlib.axes._subplots.AxesSubplot at 0x7fb5eba9f690>"
            ]
          },
          "metadata": {
            "tags": []
          },
          "execution_count": 19
        },
        {
          "output_type": "display_data",
          "data": {
            "image/png": "[encoded data removed]",
            "text/plain": [
              "<Figure size 1296x576 with 1 Axes>"
            ]
          },
          "metadata": {
            "tags": [],
            "needs_background": "light"
          }
        }
      ]
    },
    {
      "cell_type": "code",
      "metadata": {
        "colab": {
          "base_uri": "https://localhost:8080/",
          "height": 584
        },
        "id": "wJ48aqxM4NU2",
        "outputId": "5fe51e0b-a84a-4619-fbb2-1fc242eaec61"
      },
      "source": [
        "btc.groupby(btc['block_timestamp'].dt.date)['fee'].sum().plot(kind='bar', figsize=(18, 8), color='orange')"
      ],
      "execution_count": null,
      "outputs": [
        {
          "output_type": "execute_result",
          "data": {
            "text/plain": [
              "<matplotlib.axes._subplots.AxesSubplot at 0x7f5b0eae5f90>"
            ]
          },
          "metadata": {
            "tags": []
          },
          "execution_count": 10
        },
        {
          "output_type": "display_data",
          "data": {
            "image/png": "[encoded data removed]",
            "text/plain": [
              "<Figure size 1296x576 with 1 Axes>"
            ]
          },
          "metadata": {
            "tags": []
          }
        }
      ]
    },
    {
      "cell_type": "code",
      "metadata": {
        "colab": {
          "base_uri": "https://localhost:8080/",
          "height": 564
        },
        "id": "mcf-Xr2OqGXe",
        "outputId": "e123cf99-b735-4f00-8cb7-7afaf643f19a"
      },
      "source": [
        "(btc.groupby(btc['block_timestamp'].dt.weekday)\n",
        "    ['avg_out_val'].sum()\n",
        "    .rename(index={i: day for i, day in enumerate(['Lunes', 'Martes', 'Miercoles', 'Jueves', 'Viernes', 'Sabado', 'Domingo'])})\n",
        "    .plot(kind='bar', figsize=(18, 8)))"
      ],
      "execution_count": null,
      "outputs": [
        {
          "output_type": "execute_result",
          "data": {
            "text/plain": [
              "<matplotlib.axes._subplots.AxesSubplot at 0x7fb5e53dd450>"
            ]
          },
          "metadata": {
            "tags": []
          },
          "execution_count": 20
        },
        {
          "output_type": "display_data",
          "data": {
            "image/png": "[encoded data removed]",
            "text/plain": [
              "<Figure size 1296x576 with 1 Axes>"
            ]
          },
          "metadata": {
            "tags": [],
            "needs_background": "light"
          }
        }
      ]
    },
    {
      "cell_type": "code",
      "metadata": {
        "colab": {
          "base_uri": "https://localhost:8080/",
          "height": 564
        },
        "id": "L-hEX9SgqN4W",
        "outputId": "a2924c78-a5f1-41d8-aee7-5f77a48b2cfb"
      },
      "source": [
        "(btc.groupby(btc['block_timestamp'].dt.weekday)\n",
        "    ['avg_in_val'].sum()\n",
        "    .rename(index={i: day for i, day in enumerate(['Lunes', 'Martes', 'Miercoles', 'Jueves', 'Viernes', 'Sabado', 'Domingo'])})\n",
        "    .plot(kind='bar', figsize=(18, 8)))"
      ],
      "execution_count": null,
      "outputs": [
        {
          "output_type": "execute_result",
          "data": {
            "text/plain": [
              "<matplotlib.axes._subplots.AxesSubplot at 0x7fb5e53dc890>"
            ]
          },
          "metadata": {
            "tags": []
          },
          "execution_count": 21
        },
        {
          "output_type": "display_data",
          "data": {
            "image/png": "[encoded data removed]",
            "text/plain": [
              "<Figure size 1296x576 with 1 Axes>"
            ]
          },
          "metadata": {
            "tags": [],
            "needs_background": "light"
          }
        }
      ]
    },
    {
      "cell_type": "code",
      "metadata": {
        "colab": {
          "base_uri": "https://localhost:8080/",
          "height": 528
        },
        "id": "wPUVkEx8qQY8",
        "outputId": "2c957bee-5112-4030-fd0e-6a9786d07df5"
      },
      "source": [
        "btc.groupby(btc['block_timestamp'].dt.hour)['avg_out_val'].sum().plot(kind='bar', figsize=(18, 8), color='red')"
      ],
      "execution_count": null,
      "outputs": [
        {
          "output_type": "execute_result",
          "data": {
            "text/plain": [
              "<matplotlib.axes._subplots.AxesSubplot at 0x7fb5eba4db50>"
            ]
          },
          "metadata": {
            "tags": []
          },
          "execution_count": 22
        },
        {
          "output_type": "display_data",
          "data": {
            "image/png": "[encoded data removed]",
            "text/plain": [
              "<Figure size 1296x576 with 1 Axes>"
            ]
          },
          "metadata": {
            "tags": [],
            "needs_background": "light"
          }
        }
      ]
    },
    {
      "cell_type": "code",
      "metadata": {
        "colab": {
          "base_uri": "https://localhost:8080/",
          "height": 528
        },
        "id": "ogGOyxQGqWG8",
        "outputId": "7293cc6f-ac46-4b80-8e82-a0231f31460d"
      },
      "source": [
        "btc.groupby(btc['block_timestamp'].dt.hour)['avg_in_val'].sum().plot(kind='bar', figsize=(18, 8), color='red')"
      ],
      "execution_count": null,
      "outputs": [
        {
          "output_type": "execute_result",
          "data": {
            "text/plain": [
              "<matplotlib.axes._subplots.AxesSubplot at 0x7fb5ef951f50>"
            ]
          },
          "metadata": {
            "tags": []
          },
          "execution_count": 23
        },
        {
          "output_type": "display_data",
          "data": {
            "image/png": "[encoded data removed]",
            "text/plain": [
              "<Figure size 1296x576 with 1 Axes>"
            ]
          },
          "metadata": {
            "tags": [],
            "needs_background": "light"
          }
        }
      ]
    },
    {
      "cell_type": "markdown",
      "metadata": {
        "id": "ne35Iy0w5hBC"
      },
      "source": [
        "##Conclusión"
      ]
    },
    {
      "cell_type": "markdown",
      "metadata": {
        "id": "5666YVK0RKsD"
      },
      "source": [
        "En los gráficos se aprecia que el mayor flujo de transacciones se dio entre los dias 19 y 28 de Mayo, siendo el 19 y 20 donde se cobro más por concepto de comisión en la red. El volumen del valor transados en la red durante el 19 y 28 de Mayo, fue producto de la prohibición de China a las instituciones financieras del país brindar servicios relacionados con monedas digitales lo que provocó que Bitcoin perdiera alrededor de un 30% de su valor\n",
        "\n",
        "Luego se evidencia una constante que ha sido en el comercio de bitcoin, y es que se registra los lunes y en el comienzo de los fines de semana, viernes y/o sabado, el mayor flujo de transacciones, y el mes de Mayo no fue la excepción.\n",
        "\n",
        "En lo que respecta a las horas del día se debe tener en consideración que la marca de tiempo es la del bloque validado en la red, y no propia de la transacción, sin embargo se \"mina\" un bloque cada 10 minutos aproximadamente. Los gráficos señalan las 17 horas del dia cuando hay más salidas y entradas de transacciones en la red, pero siendo la mayor parte del día estable durante Mayo, 2021."
      ]
    },
    {
      "cell_type": "code",
      "metadata": {
        "colab": {
          "base_uri": "https://localhost:8080/"
        },
        "id": "RrPrXCHdLo2Q",
        "outputId": "a672aff7-e6f4-4974-9b98-b973af0b0e17"
      },
      "source": [
        "total = btc['input_value'].sum() * 0.000000001\n",
        "total_fee = btc[\"fee\"].sum() * 0.000000001\n",
        "fee_input = total_fee * 100 / total_satoshis\n",
        "\n",
        "print(f\"De un total de {total} BTC transferidos durante el mes de Mayo, {total_fee} BTC correspondieron para comisión en transacciones.\")\n",
        "print(f\"La pequeña cifra de {fee_input}% del total de BTC en movimiento durante Mayo, 2021\")"
      ],
      "execution_count": null,
      "outputs": [
        {
          "output_type": "stream",
          "text": [
            "De un total de 6165792.047732811 BTC transferidos durante el mes de Mayo, 262.689460368 BTC correspondieron para comisión en transacciones.\n",
            "La pequeña cifra de 0.004260433344724821% del total de BTC en movimiento durante Mayo, 2021\n"
          ],
          "name": "stdout"
        }
      ]
    },
    {
      "cell_type": "code",
      "metadata": {
        "colab": {
          "base_uri": "https://localhost:8080/"
        },
        "id": "N0nYZJnDL2mE",
        "outputId": "a2d3f07d-199b-4204-8249-61c5c5beb9b4"
      },
      "source": [
        "avg_fee_per_byte = btc['fees_per_byte'].mean()\n",
        "\n",
        "print(f'Durante el mes de Mayo, se cobro en promedio {avg_fee_per_byte} satoshis por byte procesado en la red')\n",
        "print(\"(1 satoshi = 0.000000001 Bitcoin)\")"
      ],
      "execution_count": null,
      "outputs": [
        {
          "output_type": "stream",
          "text": [
            "Durante el mes de Mayo, se cobro en promedio 57.86701206800279 satoshis por byte procesado en la red\n",
            "(1 satoshi = 0.000000001 Bitcoin)\n"
          ],
          "name": "stdout"
        }
      ]
    },
    {
      "cell_type": "code",
      "metadata": {
        "id": "uyyzMb_xMG1c"
      },
      "source": [
        ""
      ],
      "execution_count": null,
      "outputs": []
    }
  ]
}